{
  "nbformat": 4,
  "nbformat_minor": 0,
  "metadata": {
    "colab": {
      "provenance": []
    },
    "kernelspec": {
      "name": "python3",
      "display_name": "Python 3"
    },
    "language_info": {
      "name": "python"
    },
    "widgets": {
      "application/vnd.jupyter.widget-state+json": {
        "784d7f607ee74c0d8aadb05eb5df3876": {
          "model_module": "@jupyter-widgets/controls",
          "model_name": "HBoxModel",
          "model_module_version": "1.5.0",
          "state": {
            "_dom_classes": [],
            "_model_module": "@jupyter-widgets/controls",
            "_model_module_version": "1.5.0",
            "_model_name": "HBoxModel",
            "_view_count": null,
            "_view_module": "@jupyter-widgets/controls",
            "_view_module_version": "1.5.0",
            "_view_name": "HBoxView",
            "box_style": "",
            "children": [
              "IPY_MODEL_08ffb6e2fd6d4e4b9246fe3045c0819f",
              "IPY_MODEL_877dfedd34d44f57a40ce531980f5422",
              "IPY_MODEL_a29d443fde144a489fdf400bb808b4a5"
            ],
            "layout": "IPY_MODEL_1b72f8c7afa942a5a74df93a0730160b"
          }
        },
        "08ffb6e2fd6d4e4b9246fe3045c0819f": {
          "model_module": "@jupyter-widgets/controls",
          "model_name": "HTMLModel",
          "model_module_version": "1.5.0",
          "state": {
            "_dom_classes": [],
            "_model_module": "@jupyter-widgets/controls",
            "_model_module_version": "1.5.0",
            "_model_name": "HTMLModel",
            "_view_count": null,
            "_view_module": "@jupyter-widgets/controls",
            "_view_module_version": "1.5.0",
            "_view_name": "HTMLView",
            "description": "",
            "description_tooltip": null,
            "layout": "IPY_MODEL_ae7901585a2846a3a287a40001327a3d",
            "placeholder": "​",
            "style": "IPY_MODEL_16dc545e094248d99faa191a5e939c37",
            "value": "Training &amp; forecasting: 100%"
          }
        },
        "877dfedd34d44f57a40ce531980f5422": {
          "model_module": "@jupyter-widgets/controls",
          "model_name": "FloatProgressModel",
          "model_module_version": "1.5.0",
          "state": {
            "_dom_classes": [],
            "_model_module": "@jupyter-widgets/controls",
            "_model_module_version": "1.5.0",
            "_model_name": "FloatProgressModel",
            "_view_count": null,
            "_view_module": "@jupyter-widgets/controls",
            "_view_module_version": "1.5.0",
            "_view_name": "ProgressView",
            "bar_style": "success",
            "description": "",
            "description_tooltip": null,
            "layout": "IPY_MODEL_1707fda5d7024cc4ae1e8612474a98f2",
            "max": 5,
            "min": 0,
            "orientation": "horizontal",
            "style": "IPY_MODEL_ec3526089e4e4b0a9c7cd9b062b41da8",
            "value": 5
          }
        },
        "a29d443fde144a489fdf400bb808b4a5": {
          "model_module": "@jupyter-widgets/controls",
          "model_name": "HTMLModel",
          "model_module_version": "1.5.0",
          "state": {
            "_dom_classes": [],
            "_model_module": "@jupyter-widgets/controls",
            "_model_module_version": "1.5.0",
            "_model_name": "HTMLModel",
            "_view_count": null,
            "_view_module": "@jupyter-widgets/controls",
            "_view_module_version": "1.5.0",
            "_view_name": "HTMLView",
            "description": "",
            "description_tooltip": null,
            "layout": "IPY_MODEL_92c83d4414434d7a82da052d6500faa0",
            "placeholder": "​",
            "style": "IPY_MODEL_9150a942ec184f939256f2ec79c3b6c3",
            "value": " 5/5 [00:17&lt;00:00,  2.46s/it]"
          }
        },
        "1b72f8c7afa942a5a74df93a0730160b": {
          "model_module": "@jupyter-widgets/base",
          "model_name": "LayoutModel",
          "model_module_version": "1.2.0",
          "state": {
            "_model_module": "@jupyter-widgets/base",
            "_model_module_version": "1.2.0",
            "_model_name": "LayoutModel",
            "_view_count": null,
            "_view_module": "@jupyter-widgets/base",
            "_view_module_version": "1.2.0",
            "_view_name": "LayoutView",
            "align_content": null,
            "align_items": null,
            "align_self": null,
            "border": null,
            "bottom": null,
            "display": null,
            "flex": null,
            "flex_flow": null,
            "grid_area": null,
            "grid_auto_columns": null,
            "grid_auto_flow": null,
            "grid_auto_rows": null,
            "grid_column": null,
            "grid_gap": null,
            "grid_row": null,
            "grid_template_areas": null,
            "grid_template_columns": null,
            "grid_template_rows": null,
            "height": null,
            "justify_content": null,
            "justify_items": null,
            "left": null,
            "margin": null,
            "max_height": null,
            "max_width": null,
            "min_height": null,
            "min_width": null,
            "object_fit": null,
            "object_position": null,
            "order": null,
            "overflow": null,
            "overflow_x": null,
            "overflow_y": null,
            "padding": null,
            "right": null,
            "top": null,
            "visibility": null,
            "width": null
          }
        },
        "ae7901585a2846a3a287a40001327a3d": {
          "model_module": "@jupyter-widgets/base",
          "model_name": "LayoutModel",
          "model_module_version": "1.2.0",
          "state": {
            "_model_module": "@jupyter-widgets/base",
            "_model_module_version": "1.2.0",
            "_model_name": "LayoutModel",
            "_view_count": null,
            "_view_module": "@jupyter-widgets/base",
            "_view_module_version": "1.2.0",
            "_view_name": "LayoutView",
            "align_content": null,
            "align_items": null,
            "align_self": null,
            "border": null,
            "bottom": null,
            "display": null,
            "flex": null,
            "flex_flow": null,
            "grid_area": null,
            "grid_auto_columns": null,
            "grid_auto_flow": null,
            "grid_auto_rows": null,
            "grid_column": null,
            "grid_gap": null,
            "grid_row": null,
            "grid_template_areas": null,
            "grid_template_columns": null,
            "grid_template_rows": null,
            "height": null,
            "justify_content": null,
            "justify_items": null,
            "left": null,
            "margin": null,
            "max_height": null,
            "max_width": null,
            "min_height": null,
            "min_width": null,
            "object_fit": null,
            "object_position": null,
            "order": null,
            "overflow": null,
            "overflow_x": null,
            "overflow_y": null,
            "padding": null,
            "right": null,
            "top": null,
            "visibility": null,
            "width": null
          }
        },
        "16dc545e094248d99faa191a5e939c37": {
          "model_module": "@jupyter-widgets/controls",
          "model_name": "DescriptionStyleModel",
          "model_module_version": "1.5.0",
          "state": {
            "_model_module": "@jupyter-widgets/controls",
            "_model_module_version": "1.5.0",
            "_model_name": "DescriptionStyleModel",
            "_view_count": null,
            "_view_module": "@jupyter-widgets/base",
            "_view_module_version": "1.2.0",
            "_view_name": "StyleView",
            "description_width": ""
          }
        },
        "1707fda5d7024cc4ae1e8612474a98f2": {
          "model_module": "@jupyter-widgets/base",
          "model_name": "LayoutModel",
          "model_module_version": "1.2.0",
          "state": {
            "_model_module": "@jupyter-widgets/base",
            "_model_module_version": "1.2.0",
            "_model_name": "LayoutModel",
            "_view_count": null,
            "_view_module": "@jupyter-widgets/base",
            "_view_module_version": "1.2.0",
            "_view_name": "LayoutView",
            "align_content": null,
            "align_items": null,
            "align_self": null,
            "border": null,
            "bottom": null,
            "display": null,
            "flex": null,
            "flex_flow": null,
            "grid_area": null,
            "grid_auto_columns": null,
            "grid_auto_flow": null,
            "grid_auto_rows": null,
            "grid_column": null,
            "grid_gap": null,
            "grid_row": null,
            "grid_template_areas": null,
            "grid_template_columns": null,
            "grid_template_rows": null,
            "height": null,
            "justify_content": null,
            "justify_items": null,
            "left": null,
            "margin": null,
            "max_height": null,
            "max_width": null,
            "min_height": null,
            "min_width": null,
            "object_fit": null,
            "object_position": null,
            "order": null,
            "overflow": null,
            "overflow_x": null,
            "overflow_y": null,
            "padding": null,
            "right": null,
            "top": null,
            "visibility": null,
            "width": null
          }
        },
        "ec3526089e4e4b0a9c7cd9b062b41da8": {
          "model_module": "@jupyter-widgets/controls",
          "model_name": "ProgressStyleModel",
          "model_module_version": "1.5.0",
          "state": {
            "_model_module": "@jupyter-widgets/controls",
            "_model_module_version": "1.5.0",
            "_model_name": "ProgressStyleModel",
            "_view_count": null,
            "_view_module": "@jupyter-widgets/base",
            "_view_module_version": "1.2.0",
            "_view_name": "StyleView",
            "bar_color": null,
            "description_width": ""
          }
        },
        "92c83d4414434d7a82da052d6500faa0": {
          "model_module": "@jupyter-widgets/base",
          "model_name": "LayoutModel",
          "model_module_version": "1.2.0",
          "state": {
            "_model_module": "@jupyter-widgets/base",
            "_model_module_version": "1.2.0",
            "_model_name": "LayoutModel",
            "_view_count": null,
            "_view_module": "@jupyter-widgets/base",
            "_view_module_version": "1.2.0",
            "_view_name": "LayoutView",
            "align_content": null,
            "align_items": null,
            "align_self": null,
            "border": null,
            "bottom": null,
            "display": null,
            "flex": null,
            "flex_flow": null,
            "grid_area": null,
            "grid_auto_columns": null,
            "grid_auto_flow": null,
            "grid_auto_rows": null,
            "grid_column": null,
            "grid_gap": null,
            "grid_row": null,
            "grid_template_areas": null,
            "grid_template_columns": null,
            "grid_template_rows": null,
            "height": null,
            "justify_content": null,
            "justify_items": null,
            "left": null,
            "margin": null,
            "max_height": null,
            "max_width": null,
            "min_height": null,
            "min_width": null,
            "object_fit": null,
            "object_position": null,
            "order": null,
            "overflow": null,
            "overflow_x": null,
            "overflow_y": null,
            "padding": null,
            "right": null,
            "top": null,
            "visibility": null,
            "width": null
          }
        },
        "9150a942ec184f939256f2ec79c3b6c3": {
          "model_module": "@jupyter-widgets/controls",
          "model_name": "DescriptionStyleModel",
          "model_module_version": "1.5.0",
          "state": {
            "_model_module": "@jupyter-widgets/controls",
            "_model_module_version": "1.5.0",
            "_model_name": "DescriptionStyleModel",
            "_view_count": null,
            "_view_module": "@jupyter-widgets/base",
            "_view_module_version": "1.2.0",
            "_view_name": "StyleView",
            "description_width": ""
          }
        }
      }
    }
  },
  "cells": [
    {
      "cell_type": "markdown",
      "source": [
        "# Делала Карина Тарасьева"
      ],
      "metadata": {
        "id": "1STNCcNatzFT"
      }
    },
    {
      "cell_type": "code",
      "execution_count": 4,
      "metadata": {
        "colab": {
          "base_uri": "https://localhost:8080/"
        },
        "id": "FLUAzUBcZugC",
        "outputId": "7521b716-8ace-42af-f2f9-67922bad2875",
        "collapsed": true
      },
      "outputs": [
        {
          "output_type": "stream",
          "name": "stdout",
          "text": [
            "Collecting numpy==1.26.3\n",
            "  Downloading numpy-1.26.3-cp311-cp311-manylinux_2_17_x86_64.manylinux2014_x86_64.whl.metadata (61 kB)\n",
            "\u001b[?25l     \u001b[90m━━━━━━━━━━━━━━━━━━━━━━━━━━━━━━━━━━━━━━━━\u001b[0m \u001b[32m0.0/61.2 kB\u001b[0m \u001b[31m?\u001b[0m eta \u001b[36m-:--:--\u001b[0m\r\u001b[2K     \u001b[90m━━━━━━━━━━━━━━━━━━━━━━━━━━━━━━━━━━━━━━━━\u001b[0m \u001b[32m61.2/61.2 kB\u001b[0m \u001b[31m4.5 MB/s\u001b[0m eta \u001b[36m0:00:00\u001b[0m\n",
            "\u001b[?25hDownloading numpy-1.26.3-cp311-cp311-manylinux_2_17_x86_64.manylinux2014_x86_64.whl (18.3 MB)\n",
            "\u001b[2K   \u001b[90m━━━━━━━━━━━━━━━━━━━━━━━━━━━━━━━━━━━━━━━━\u001b[0m \u001b[32m18.3/18.3 MB\u001b[0m \u001b[31m59.4 MB/s\u001b[0m eta \u001b[36m0:00:00\u001b[0m\n",
            "\u001b[?25hInstalling collected packages: numpy\n",
            "  Attempting uninstall: numpy\n",
            "    Found existing installation: numpy 2.0.2\n",
            "    Uninstalling numpy-2.0.2:\n",
            "      Successfully uninstalled numpy-2.0.2\n",
            "\u001b[31mERROR: pip's dependency resolver does not currently take into account all the packages that are installed. This behaviour is the source of the following dependency conflicts.\n",
            "thinc 8.3.6 requires numpy<3.0.0,>=2.0.0, but you have numpy 1.26.3 which is incompatible.\u001b[0m\u001b[31m\n",
            "\u001b[0mSuccessfully installed numpy-1.26.3\n",
            "Requirement already satisfied: tbats in /usr/local/lib/python3.11/dist-packages (1.1.3)\n",
            "Requirement already satisfied: numpy in /usr/local/lib/python3.11/dist-packages (from tbats) (1.26.3)\n",
            "Requirement already satisfied: scipy in /usr/local/lib/python3.11/dist-packages (from tbats) (1.15.3)\n",
            "Requirement already satisfied: pmdarima in /usr/local/lib/python3.11/dist-packages (from tbats) (2.0.4)\n",
            "Requirement already satisfied: scikit-learn in /usr/local/lib/python3.11/dist-packages (from tbats) (1.6.1)\n",
            "Requirement already satisfied: joblib>=0.11 in /usr/local/lib/python3.11/dist-packages (from pmdarima->tbats) (1.5.1)\n",
            "Requirement already satisfied: Cython!=0.29.18,!=0.29.31,>=0.29 in /usr/local/lib/python3.11/dist-packages (from pmdarima->tbats) (3.0.12)\n",
            "Requirement already satisfied: pandas>=0.19 in /usr/local/lib/python3.11/dist-packages (from pmdarima->tbats) (2.2.2)\n",
            "Requirement already satisfied: statsmodels>=0.13.2 in /usr/local/lib/python3.11/dist-packages (from pmdarima->tbats) (0.14.4)\n",
            "Requirement already satisfied: urllib3 in /usr/local/lib/python3.11/dist-packages (from pmdarima->tbats) (2.4.0)\n",
            "Requirement already satisfied: setuptools!=50.0.0,>=38.6.0 in /usr/local/lib/python3.11/dist-packages (from pmdarima->tbats) (75.2.0)\n",
            "Requirement already satisfied: packaging>=17.1 in /usr/local/lib/python3.11/dist-packages (from pmdarima->tbats) (24.2)\n",
            "Requirement already satisfied: threadpoolctl>=3.1.0 in /usr/local/lib/python3.11/dist-packages (from scikit-learn->tbats) (3.6.0)\n",
            "Requirement already satisfied: python-dateutil>=2.8.2 in /usr/local/lib/python3.11/dist-packages (from pandas>=0.19->pmdarima->tbats) (2.9.0.post0)\n",
            "Requirement already satisfied: pytz>=2020.1 in /usr/local/lib/python3.11/dist-packages (from pandas>=0.19->pmdarima->tbats) (2025.2)\n",
            "Requirement already satisfied: tzdata>=2022.7 in /usr/local/lib/python3.11/dist-packages (from pandas>=0.19->pmdarima->tbats) (2025.2)\n",
            "Requirement already satisfied: patsy>=0.5.6 in /usr/local/lib/python3.11/dist-packages (from statsmodels>=0.13.2->pmdarima->tbats) (1.0.1)\n",
            "Requirement already satisfied: six>=1.5 in /usr/local/lib/python3.11/dist-packages (from python-dateutil>=2.8.2->pandas>=0.19->pmdarima->tbats) (1.17.0)\n",
            "Requirement already satisfied: pmdarima in /usr/local/lib/python3.11/dist-packages (2.0.4)\n",
            "Requirement already satisfied: joblib>=0.11 in /usr/local/lib/python3.11/dist-packages (from pmdarima) (1.5.1)\n",
            "Requirement already satisfied: Cython!=0.29.18,!=0.29.31,>=0.29 in /usr/local/lib/python3.11/dist-packages (from pmdarima) (3.0.12)\n",
            "Requirement already satisfied: numpy>=1.21.2 in /usr/local/lib/python3.11/dist-packages (from pmdarima) (1.26.3)\n",
            "Requirement already satisfied: pandas>=0.19 in /usr/local/lib/python3.11/dist-packages (from pmdarima) (2.2.2)\n",
            "Requirement already satisfied: scikit-learn>=0.22 in /usr/local/lib/python3.11/dist-packages (from pmdarima) (1.6.1)\n",
            "Requirement already satisfied: scipy>=1.3.2 in /usr/local/lib/python3.11/dist-packages (from pmdarima) (1.15.3)\n",
            "Requirement already satisfied: statsmodels>=0.13.2 in /usr/local/lib/python3.11/dist-packages (from pmdarima) (0.14.4)\n",
            "Requirement already satisfied: urllib3 in /usr/local/lib/python3.11/dist-packages (from pmdarima) (2.4.0)\n",
            "Requirement already satisfied: setuptools!=50.0.0,>=38.6.0 in /usr/local/lib/python3.11/dist-packages (from pmdarima) (75.2.0)\n",
            "Requirement already satisfied: packaging>=17.1 in /usr/local/lib/python3.11/dist-packages (from pmdarima) (24.2)\n",
            "Requirement already satisfied: python-dateutil>=2.8.2 in /usr/local/lib/python3.11/dist-packages (from pandas>=0.19->pmdarima) (2.9.0.post0)\n",
            "Requirement already satisfied: pytz>=2020.1 in /usr/local/lib/python3.11/dist-packages (from pandas>=0.19->pmdarima) (2025.2)\n",
            "Requirement already satisfied: tzdata>=2022.7 in /usr/local/lib/python3.11/dist-packages (from pandas>=0.19->pmdarima) (2025.2)\n",
            "Requirement already satisfied: threadpoolctl>=3.1.0 in /usr/local/lib/python3.11/dist-packages (from scikit-learn>=0.22->pmdarima) (3.6.0)\n",
            "Requirement already satisfied: patsy>=0.5.6 in /usr/local/lib/python3.11/dist-packages (from statsmodels>=0.13.2->pmdarima) (1.0.1)\n",
            "Requirement already satisfied: six>=1.5 in /usr/local/lib/python3.11/dist-packages (from python-dateutil>=2.8.2->pandas>=0.19->pmdarima) (1.17.0)\n"
          ]
        }
      ],
      "source": [
        "!pip install numpy==1.26.3\n",
        "!pip install tbats\n",
        "!pip install pmdarima"
      ]
    },
    {
      "cell_type": "code",
      "source": [
        "import warnings, itertools, math, os, json, pathlib\n",
        "warnings.filterwarnings(\"ignore\")\n",
        "\n",
        "from tbats import TBATS\n",
        "import matplotlib.pyplot as plt\n",
        "\n",
        "import pandas as pd\n",
        "import numpy as np\n",
        "\n",
        "from sklearn.metrics import mean_absolute_error, mean_squared_error\n",
        "from sklearn.metrics import mean_absolute_percentage_error as mape\n",
        "from sklearn.model_selection import train_test_split\n",
        "\n",
        "from statsmodels.tsa.holtwinters import ExponentialSmoothing\n",
        "import pmdarima as pm\n",
        "from prophet import Prophet\n",
        "import lightgbm as lgb\n",
        "from tqdm.auto import tqdm"
      ],
      "metadata": {
        "id": "zbI8rheyaGyR"
      },
      "execution_count": 209,
      "outputs": []
    },
    {
      "cell_type": "code",
      "source": [
        "CSV_PATH  = '/content/series.csv'\n",
        "HORIZON   = 23\n",
        "VAL_SIZE  = HORIZON\n",
        "\n",
        "df = pd.read_csv(CSV_PATH, sep=',', skipinitialspace=True)\n",
        "\n",
        "# определяем колонки даты и y:\n",
        "date_cols = [c for c in df.columns if 'date' in c.lower() or c.lower().startswith('ds')]\n",
        "y_cols    = [c for c in df.columns if c not in date_cols]\n",
        "if date_cols:\n",
        "    date_col = date_cols[0]\n",
        "else:\n",
        "    date_col = df.columns[0]\n",
        "# выбираем первую не-date колонку числовую\n",
        "y_col = [c for c in y_cols if c != date_col][0]\n",
        "\n",
        "dates = df[date_col].astype(str)\n",
        "if dates.str.match(r'^\\d{6}$').all():\n",
        "    df[date_col] = pd.to_datetime(dates, format='%y%m%d', errors='coerce')\n",
        "elif dates.str.match(r'^\\d{1,2}\\.\\d{1,2}\\.\\d{4}$').all():\n",
        "    df[date_col] = pd.to_datetime(dates, format='%d.%m.%Y', dayfirst=True, errors='coerce')\n",
        "else:\n",
        "    df[date_col] = pd.to_datetime(dates, errors='coerce')\n",
        "bad = df[date_col].isna().sum()\n",
        "if bad:\n",
        "    print(f\" {bad} не распознано в колонке '{date_col}'\")\n",
        "\n",
        "# приводим y к float\n",
        "df[y_col] = pd.to_numeric(df[y_col], errors='coerce')\n",
        "\n",
        "series = (\n",
        "    df[[date_col, y_col]]\n",
        "      .dropna()\n",
        "      .drop_duplicates(subset=[date_col], keep='first')  # убираем дубли во входных данных\n",
        "      .set_index(date_col)[y_col]\n",
        ")\n",
        "\n",
        "print(series.head())\n",
        "print('Частота (inferred):', series.index.inferred_freq)"
      ],
      "metadata": {
        "colab": {
          "base_uri": "https://localhost:8080/"
        },
        "id": "SccMv6FQlYDA",
        "outputId": "4dfca58e-3369-441a-ad06-a23af6ac9aa1"
      },
      "execution_count": 210,
      "outputs": [
        {
          "output_type": "stream",
          "name": "stdout",
          "text": [
            "date\n",
            "2022-01-03    346.13\n",
            "2022-01-10    335.76\n",
            "2022-01-17    311.60\n",
            "2022-01-24    329.58\n",
            "2022-01-31    324.60\n",
            "Name: PRICE, dtype: float64\n",
            "Частота (inferred): None\n"
          ]
        }
      ]
    },
    {
      "cell_type": "code",
      "source": [
        "series.info()"
      ],
      "metadata": {
        "colab": {
          "base_uri": "https://localhost:8080/"
        },
        "id": "HMUxMK9RiiPK",
        "outputId": "e13f4249-0d11-4e9e-aed0-d77b4d48c03a"
      },
      "execution_count": 211,
      "outputs": [
        {
          "output_type": "stream",
          "name": "stdout",
          "text": [
            "<class 'pandas.core.series.Series'>\n",
            "DatetimeIndex: 154 entries, 2022-01-03 to 2024-12-30\n",
            "Series name: PRICE\n",
            "Non-Null Count  Dtype  \n",
            "--------------  -----  \n",
            "154 non-null    float64\n",
            "dtypes: float64(1)\n",
            "memory usage: 2.4 KB\n"
          ]
        }
      ]
    },
    {
      "cell_type": "code",
      "source": [
        "train, val = series.iloc[:-VAL_SIZE], series.iloc[-VAL_SIZE:]\n",
        "\n",
        "print(f\"Train: {train.index[0]} … {train.index[-1]}  |  Val: {val.index[0]} … {val.index[-1]}\")"
      ],
      "metadata": {
        "id": "b4hxRqpDabW6",
        "colab": {
          "base_uri": "https://localhost:8080/"
        },
        "outputId": "ebce56f5-685e-410e-b4e4-6471b96b9200"
      },
      "execution_count": 212,
      "outputs": [
        {
          "output_type": "stream",
          "name": "stdout",
          "text": [
            "Train: 2022-01-03 00:00:00 … 2024-07-22 00:00:00  |  Val: 2024-07-29 00:00:00 … 2024-12-30 00:00:00\n"
          ]
        }
      ]
    },
    {
      "cell_type": "code",
      "source": [
        "def safe_forecast(model_name, fn):\n",
        "\n",
        "    try:\n",
        "        yhat = fn()\n",
        "        mets = {\n",
        "            'MAE' : mean_absolute_error(val, yhat),\n",
        "            'RMSE': math.sqrt(mean_squared_error(val, yhat)),\n",
        "            'MAPE': mean_absolute_percentage_error(val, yhat) * 100\n",
        "        }\n",
        "        return yhat, mets\n",
        "    except Exception as e:\n",
        "        print(f\"[{model_name}] skipped ⇒ {e}\")\n",
        "        return None, None\n"
      ],
      "metadata": {
        "id": "hg0G5fikgYeh"
      },
      "execution_count": 213,
      "outputs": []
    },
    {
      "cell_type": "code",
      "source": [
        "from pandas.tseries.frequencies import to_offset\n",
        "\n",
        "def _make_future_index(train_idx, steps):\n",
        "    \"\"\"Возвращает Index для прогноза длины steps, любого типа train_idx.\"\"\"\n",
        "    if isinstance(train_idx, pd.DatetimeIndex):\n",
        "        freq = pd.infer_freq(train_idx)\n",
        "        if freq is None and len(train_idx) > 1:\n",
        "            # берём шаг между последними двумя точками\n",
        "            freq = to_offset(train_idx[-1] - train_idx[-2])\n",
        "        offset = to_offset(freq) if not isinstance(freq, pd.offsets.DateOffset) else freq\n",
        "        return pd.date_range(start=train_idx[-1] + offset, periods=steps, freq=offset)\n",
        "    else:\n",
        "\n",
        "        return pd.RangeIndex(start=len(train_idx), stop=len(train_idx)+steps)\n",
        "\n",
        "# ETS (Хольт-Уинтерс)\n",
        "def ets_forecast(train, steps):\n",
        "    best_aic, best_model = np.inf, None\n",
        "    seasonal_periods = [None, 4, 7, 12, 24]\n",
        "    for sp, t, s in itertools.product(seasonal_periods, ['add','mul'], ['add','mul',None]):\n",
        "        try:\n",
        "            m = ExponentialSmoothing(train, trend=t, seasonal=s, seasonal_periods=sp).fit(optimized=True)\n",
        "            if m.aic < best_aic:\n",
        "                best_aic, best_model = m.aic, m\n",
        "        except: pass\n",
        "    if best_model is None:\n",
        "        raise RuntimeError(\"ETS: no model converged\")\n",
        "    idx_f = _make_future_index(train.index, steps)\n",
        "    return pd.Series(best_model.forecast(steps), index=idx_f)\n",
        "\n",
        "# SARIMA auto_arima\n",
        "def sarima_forecast(train, steps):\n",
        "    model = pm.auto_arima(train, seasonal=True, stepwise=True,\n",
        "                          suppress_warnings=True, error_action='ignore')\n",
        "    fc = model.predict(n_periods=steps)\n",
        "    idx_f = _make_future_index(train.index, steps)\n",
        "    return pd.Series(fc, index=idx_f)\n",
        "\n",
        "# Prophet\n",
        "def prophet_forecast(train, steps, X=None, freq_hint='D'):\n",
        "    # 1) idx_train → ds\n",
        "    if isinstance(train.index, pd.DatetimeIndex):\n",
        "        idx = train.index\n",
        "    else:\n",
        "        start = pd.Timestamp.today().normalize()\n",
        "        idx = pd.date_range(start, periods=len(train), freq=freq_hint)\n",
        "    df_tr = pd.DataFrame({'ds': idx, 'y': train.values})\n",
        "    if X is not None and not X.empty:\n",
        "        df_tr = pd.concat([df_tr, X.reset_index(drop=True)], axis=1)\n",
        "    m = Prophet()\n",
        "    if X is not None and not X.empty:\n",
        "        for c in X.columns: m.add_regressor(c)\n",
        "    m.fit(df_tr.dropna())\n",
        "\n",
        "    idx_f = _make_future_index(idx, steps)\n",
        "    df_f = pd.DataFrame({'ds': idx_f})\n",
        "    if X is not None and not X.empty:\n",
        "        last_exog = X.iloc[[-1]]\n",
        "        df_f = pd.concat([df_f, pd.DataFrame(np.repeat(last_exog.values, steps, axis=0),\n",
        "                                              columns=X.columns)], axis=1)\n",
        "    yhat = m.predict(df_f)['yhat'].values\n",
        "    return pd.Series(yhat, index=idx_f)\n",
        "\n",
        "# TBATS\n",
        "def tbats_forecast(train, steps):\n",
        "    estimator = TBATS(use_arma_errors=False, n_jobs=1)\n",
        "    model = estimator.fit(train)\n",
        "    fc = model.forecast(steps)\n",
        "    idx_f = _make_future_index(train.index, steps)\n",
        "    return pd.Series(fc, index=idx_f)\n",
        "\n",
        "# LightGBM по лагам\n",
        "def lgbm_forecast(train, steps, lags=(1,2,3,4,6,8,12,24,48)):\n",
        "    def make_feats(y):\n",
        "        df = pd.DataFrame({'y': y})\n",
        "        for l in lags:\n",
        "            df[f'lag_{l}'] = y.shift(l)\n",
        "        return df.dropna()\n",
        "\n",
        "    feats = make_feats(train)\n",
        "    X_tr, y_tr = feats.drop(columns='y'), feats['y']    # <— так!\n",
        "    model = lgb.LGBMRegressor(\n",
        "        n_estimators=200,\n",
        "        learning_rate=0.08,\n",
        "        subsample=0.9,\n",
        "        min_data_in_leaf=2,\n",
        "        objective='regression_l1',\n",
        "        verbosity=-1\n",
        "    )\n",
        "    model.fit(X_tr, y_tr)\n",
        "\n",
        "    history = train.copy()\n",
        "    preds = []\n",
        "    for _ in range(steps):\n",
        "        feat = make_feats(history).iloc[-1].drop(labels='y')\n",
        "        yhat = model.predict(feat.values.reshape(1, -1))[0]\n",
        "        preds.append(yhat)\n",
        "        history = pd.concat([history, pd.Series([yhat], index=[_make_future_index(history.index,1)[0]])])\n",
        "\n",
        "    idx_f = _make_future_index(train.index, steps)\n",
        "    return pd.Series(preds, index=idx_f)\n"
      ],
      "metadata": {
        "id": "Z39H5VJ4agaU"
      },
      "execution_count": 214,
      "outputs": []
    },
    {
      "cell_type": "markdown",
      "source": [
        "# Делал Даниил Гареев"
      ],
      "metadata": {
        "id": "zXXR3hpst8it"
      }
    },
    {
      "cell_type": "code",
      "source": [
        "models = {\n",
        "    'ETS'     : lambda: ets_forecast(train, VAL_SIZE),\n",
        "    'SARIMA'  : lambda: sarima_forecast(train, VAL_SIZE),\n",
        "    'Prophet' : lambda: prophet_forecast(train, VAL_SIZE),\n",
        "    'TBATS'   : lambda: tbats_forecast(train, VAL_SIZE),\n",
        "    'LGBM'    : lambda: lgbm_forecast(train, VAL_SIZE),\n",
        "}\n",
        "\n",
        "results, metrics_table = {}, {}\n",
        "for name, fn in tqdm(models.items(), desc=\"Training & forecasting\"):\n",
        "    yhat, mets = safe_forecast(name, fn)\n",
        "    if yhat is not None:\n",
        "        results[name]       = yhat\n",
        "        metrics_table[name] = mets\n",
        "\n",
        "metrics_df = (pd.DataFrame(metrics_table).T\n",
        "              .sort_values('MAPE')\n",
        "              .style.format('{:.3f}'))\n",
        "metrics_df"
      ],
      "metadata": {
        "id": "EyCh_OVbaikO",
        "colab": {
          "base_uri": "https://localhost:8080/",
          "height": 421,
          "referenced_widgets": [
            "784d7f607ee74c0d8aadb05eb5df3876",
            "08ffb6e2fd6d4e4b9246fe3045c0819f",
            "877dfedd34d44f57a40ce531980f5422",
            "a29d443fde144a489fdf400bb808b4a5",
            "1b72f8c7afa942a5a74df93a0730160b",
            "ae7901585a2846a3a287a40001327a3d",
            "16dc545e094248d99faa191a5e939c37",
            "1707fda5d7024cc4ae1e8612474a98f2",
            "ec3526089e4e4b0a9c7cd9b062b41da8",
            "92c83d4414434d7a82da052d6500faa0",
            "9150a942ec184f939256f2ec79c3b6c3"
          ]
        },
        "outputId": "03df4d7d-8878-41f8-a221-de9d2d058605"
      },
      "execution_count": 201,
      "outputs": [
        {
          "output_type": "display_data",
          "data": {
            "text/plain": [
              "Training & forecasting:   0%|          | 0/5 [00:00<?, ?it/s]"
            ],
            "application/vnd.jupyter.widget-view+json": {
              "version_major": 2,
              "version_minor": 0,
              "model_id": "784d7f607ee74c0d8aadb05eb5df3876"
            }
          },
          "metadata": {}
        },
        {
          "output_type": "stream",
          "name": "stdout",
          "text": [
            "[ETS] skipped ⇒ Input contains NaN.\n"
          ]
        },
        {
          "output_type": "stream",
          "name": "stderr",
          "text": [
            "INFO:prophet:Disabling weekly seasonality. Run prophet with weekly_seasonality=True to override this.\n",
            "INFO:prophet:Disabling daily seasonality. Run prophet with daily_seasonality=True to override this.\n",
            "DEBUG:cmdstanpy:input tempfile: /tmp/tmpft9r0x_e/88d1jdjf.json\n",
            "DEBUG:cmdstanpy:input tempfile: /tmp/tmpft9r0x_e/ru9ui07o.json\n",
            "DEBUG:cmdstanpy:idx 0\n",
            "DEBUG:cmdstanpy:running CmdStan, num_threads: None\n",
            "DEBUG:cmdstanpy:CmdStan args: ['/usr/local/lib/python3.11/dist-packages/prophet/stan_model/prophet_model.bin', 'random', 'seed=16847', 'data', 'file=/tmp/tmpft9r0x_e/88d1jdjf.json', 'init=/tmp/tmpft9r0x_e/ru9ui07o.json', 'output', 'file=/tmp/tmpft9r0x_e/prophet_modeltnwuo3bm/prophet_model-20250610161841.csv', 'method=optimize', 'algorithm=lbfgs', 'iter=10000']\n",
            "16:18:41 - cmdstanpy - INFO - Chain [1] start processing\n",
            "INFO:cmdstanpy:Chain [1] start processing\n",
            "16:18:41 - cmdstanpy - INFO - Chain [1] done processing\n",
            "INFO:cmdstanpy:Chain [1] done processing\n"
          ]
        },
        {
          "output_type": "stream",
          "name": "stdout",
          "text": [
            "[SARIMA] skipped ⇒ Input contains NaN.\n"
          ]
        },
        {
          "output_type": "execute_result",
          "data": {
            "text/plain": [
              "<pandas.io.formats.style.Styler at 0x7e60da5da690>"
            ],
            "text/html": [
              "<style type=\"text/css\">\n",
              "</style>\n",
              "<table id=\"T_be993\" class=\"dataframe\">\n",
              "  <thead>\n",
              "    <tr>\n",
              "      <th class=\"blank level0\" >&nbsp;</th>\n",
              "      <th id=\"T_be993_level0_col0\" class=\"col_heading level0 col0\" >MAE</th>\n",
              "      <th id=\"T_be993_level0_col1\" class=\"col_heading level0 col1\" >RMSE</th>\n",
              "      <th id=\"T_be993_level0_col2\" class=\"col_heading level0 col2\" >MAPE</th>\n",
              "    </tr>\n",
              "  </thead>\n",
              "  <tbody>\n",
              "    <tr>\n",
              "      <th id=\"T_be993_level0_row0\" class=\"row_heading level0 row0\" >LGBM</th>\n",
              "      <td id=\"T_be993_row0_col0\" class=\"data row0 col0\" >6.727</td>\n",
              "      <td id=\"T_be993_row0_col1\" class=\"data row0 col1\" >7.676</td>\n",
              "      <td id=\"T_be993_row0_col2\" class=\"data row0 col2\" >5.319</td>\n",
              "    </tr>\n",
              "    <tr>\n",
              "      <th id=\"T_be993_level0_row1\" class=\"row_heading level0 row1\" >TBATS</th>\n",
              "      <td id=\"T_be993_row1_col0\" class=\"data row1 col0\" >7.384</td>\n",
              "      <td id=\"T_be993_row1_col1\" class=\"data row1 col1\" >8.035</td>\n",
              "      <td id=\"T_be993_row1_col2\" class=\"data row1 col2\" >5.873</td>\n",
              "    </tr>\n",
              "    <tr>\n",
              "      <th id=\"T_be993_level0_row2\" class=\"row_heading level0 row2\" >Prophet</th>\n",
              "      <td id=\"T_be993_row2_col0\" class=\"data row2 col0\" >14.925</td>\n",
              "      <td id=\"T_be993_row2_col1\" class=\"data row2 col1\" >21.210</td>\n",
              "      <td id=\"T_be993_row2_col2\" class=\"data row2 col2\" >12.221</td>\n",
              "    </tr>\n",
              "  </tbody>\n",
              "</table>\n"
            ]
          },
          "metadata": {},
          "execution_count": 201
        }
      ]
    },
    {
      "cell_type": "code",
      "source": [
        "\"\"\"\n",
        "Стратегия: берём ТРИ лучших по MAPE модели,\n",
        "усредняем c эмпирическими весами 40 % / 40 % / 20 %\n",
        "\"\"\"\n",
        "TOP_N = 3\n",
        "weights = [0.4, 0.4, 0.2]\n",
        "\n",
        "top_models = metrics_df.data.index[:TOP_N].tolist()\n",
        "print(\"Blending models:\", top_models)"
      ],
      "metadata": {
        "id": "vq0KPucva2SP",
        "colab": {
          "base_uri": "https://localhost:8080/",
          "height": 315
        },
        "collapsed": true,
        "outputId": "5fe913eb-32ee-4750-944a-91e007cd24e9"
      },
      "execution_count": 215,
      "outputs": [
        {
          "output_type": "error",
          "ename": "AttributeError",
          "evalue": "'DataFrame' object has no attribute 'data'",
          "traceback": [
            "\u001b[0;31m---------------------------------------------------------------------------\u001b[0m",
            "\u001b[0;31mAttributeError\u001b[0m                            Traceback (most recent call last)",
            "\u001b[0;32m<ipython-input-215-4645a4dae7d7>\u001b[0m in \u001b[0;36m<cell line: 0>\u001b[0;34m()\u001b[0m\n\u001b[1;32m      6\u001b[0m \u001b[0mweights\u001b[0m \u001b[0;34m=\u001b[0m \u001b[0;34m[\u001b[0m\u001b[0;36m0.4\u001b[0m\u001b[0;34m,\u001b[0m \u001b[0;36m0.4\u001b[0m\u001b[0;34m,\u001b[0m \u001b[0;36m0.2\u001b[0m\u001b[0;34m]\u001b[0m\u001b[0;34m\u001b[0m\u001b[0;34m\u001b[0m\u001b[0m\n\u001b[1;32m      7\u001b[0m \u001b[0;34m\u001b[0m\u001b[0m\n\u001b[0;32m----> 8\u001b[0;31m \u001b[0mtop_models\u001b[0m \u001b[0;34m=\u001b[0m \u001b[0mmetrics_df\u001b[0m\u001b[0;34m.\u001b[0m\u001b[0mdata\u001b[0m\u001b[0;34m.\u001b[0m\u001b[0mindex\u001b[0m\u001b[0;34m[\u001b[0m\u001b[0;34m:\u001b[0m\u001b[0mTOP_N\u001b[0m\u001b[0;34m]\u001b[0m\u001b[0;34m.\u001b[0m\u001b[0mtolist\u001b[0m\u001b[0;34m(\u001b[0m\u001b[0;34m)\u001b[0m\u001b[0;34m\u001b[0m\u001b[0;34m\u001b[0m\u001b[0m\n\u001b[0m\u001b[1;32m      9\u001b[0m \u001b[0mprint\u001b[0m\u001b[0;34m(\u001b[0m\u001b[0;34m\"Blending models:\"\u001b[0m\u001b[0;34m,\u001b[0m \u001b[0mtop_models\u001b[0m\u001b[0;34m)\u001b[0m\u001b[0;34m\u001b[0m\u001b[0;34m\u001b[0m\u001b[0m\n",
            "\u001b[0;32m/usr/local/lib/python3.11/dist-packages/pandas/core/generic.py\u001b[0m in \u001b[0;36m__getattr__\u001b[0;34m(self, name)\u001b[0m\n\u001b[1;32m   6297\u001b[0m         ):\n\u001b[1;32m   6298\u001b[0m             \u001b[0;32mreturn\u001b[0m \u001b[0mself\u001b[0m\u001b[0;34m[\u001b[0m\u001b[0mname\u001b[0m\u001b[0;34m]\u001b[0m\u001b[0;34m\u001b[0m\u001b[0;34m\u001b[0m\u001b[0m\n\u001b[0;32m-> 6299\u001b[0;31m         \u001b[0;32mreturn\u001b[0m \u001b[0mobject\u001b[0m\u001b[0;34m.\u001b[0m\u001b[0m__getattribute__\u001b[0m\u001b[0;34m(\u001b[0m\u001b[0mself\u001b[0m\u001b[0;34m,\u001b[0m \u001b[0mname\u001b[0m\u001b[0;34m)\u001b[0m\u001b[0;34m\u001b[0m\u001b[0;34m\u001b[0m\u001b[0m\n\u001b[0m\u001b[1;32m   6300\u001b[0m \u001b[0;34m\u001b[0m\u001b[0m\n\u001b[1;32m   6301\u001b[0m     \u001b[0;34m@\u001b[0m\u001b[0mfinal\u001b[0m\u001b[0;34m\u001b[0m\u001b[0;34m\u001b[0m\u001b[0m\n",
            "\u001b[0;31mAttributeError\u001b[0m: 'DataFrame' object has no attribute 'data'"
          ]
        }
      ]
    },
    {
      "cell_type": "code",
      "source": [
        "blend_val = sum(w * results[m] for w, m in zip(weights, top_models))\n",
        "\n",
        "blend_metrics = {\n",
        "    'MAE' : mean_absolute_error(val, blend_val),\n",
        "    'RMSE': math.sqrt(mean_squared_error(val, blend_val)),\n",
        "    'MAPE': mape(val, blend_val)*100\n",
        "}\n",
        "print(\"Blend metrics:\", {k:f'{v:.3f}' for k,v in blend_metrics.items()})\n",
        "\n",
        "# добавляем в таблицу для сравнения\n",
        "metrics_df = (pd.concat([metrics_df.data,\n",
        "                         pd.DataFrame({'Blend':blend_metrics}).T])\n",
        "              .sort_values('MAPE'))\n",
        "metrics_df.style.format('{:.3f}')"
      ],
      "metadata": {
        "id": "xIJ2W6gIbB0Z",
        "colab": {
          "base_uri": "https://localhost:8080/",
          "height": 192
        },
        "outputId": "af9e39bf-b171-40d8-8664-b9a29f6f0afc"
      },
      "execution_count": 204,
      "outputs": [
        {
          "output_type": "stream",
          "name": "stdout",
          "text": [
            "Blend metrics: {'MAE': '7.496', 'RMSE': '8.817', 'MAPE': '6.061'}\n"
          ]
        },
        {
          "output_type": "execute_result",
          "data": {
            "text/plain": [
              "<pandas.io.formats.style.Styler at 0x7e60dae9d450>"
            ],
            "text/html": [
              "<style type=\"text/css\">\n",
              "</style>\n",
              "<table id=\"T_2e7e7\" class=\"dataframe\">\n",
              "  <thead>\n",
              "    <tr>\n",
              "      <th class=\"blank level0\" >&nbsp;</th>\n",
              "      <th id=\"T_2e7e7_level0_col0\" class=\"col_heading level0 col0\" >MAE</th>\n",
              "      <th id=\"T_2e7e7_level0_col1\" class=\"col_heading level0 col1\" >RMSE</th>\n",
              "      <th id=\"T_2e7e7_level0_col2\" class=\"col_heading level0 col2\" >MAPE</th>\n",
              "    </tr>\n",
              "  </thead>\n",
              "  <tbody>\n",
              "    <tr>\n",
              "      <th id=\"T_2e7e7_level0_row0\" class=\"row_heading level0 row0\" >LGBM</th>\n",
              "      <td id=\"T_2e7e7_row0_col0\" class=\"data row0 col0\" >6.727</td>\n",
              "      <td id=\"T_2e7e7_row0_col1\" class=\"data row0 col1\" >7.676</td>\n",
              "      <td id=\"T_2e7e7_row0_col2\" class=\"data row0 col2\" >5.319</td>\n",
              "    </tr>\n",
              "    <tr>\n",
              "      <th id=\"T_2e7e7_level0_row1\" class=\"row_heading level0 row1\" >TBATS</th>\n",
              "      <td id=\"T_2e7e7_row1_col0\" class=\"data row1 col0\" >7.384</td>\n",
              "      <td id=\"T_2e7e7_row1_col1\" class=\"data row1 col1\" >8.035</td>\n",
              "      <td id=\"T_2e7e7_row1_col2\" class=\"data row1 col2\" >5.873</td>\n",
              "    </tr>\n",
              "    <tr>\n",
              "      <th id=\"T_2e7e7_level0_row2\" class=\"row_heading level0 row2\" >Blend</th>\n",
              "      <td id=\"T_2e7e7_row2_col0\" class=\"data row2 col0\" >7.496</td>\n",
              "      <td id=\"T_2e7e7_row2_col1\" class=\"data row2 col1\" >8.817</td>\n",
              "      <td id=\"T_2e7e7_row2_col2\" class=\"data row2 col2\" >6.061</td>\n",
              "    </tr>\n",
              "    <tr>\n",
              "      <th id=\"T_2e7e7_level0_row3\" class=\"row_heading level0 row3\" >Prophet</th>\n",
              "      <td id=\"T_2e7e7_row3_col0\" class=\"data row3 col0\" >14.925</td>\n",
              "      <td id=\"T_2e7e7_row3_col1\" class=\"data row3 col1\" >21.210</td>\n",
              "      <td id=\"T_2e7e7_row3_col2\" class=\"data row3 col2\" >12.221</td>\n",
              "    </tr>\n",
              "  </tbody>\n",
              "</table>\n"
            ]
          },
          "metadata": {},
          "execution_count": 204
        }
      ]
    },
    {
      "cell_type": "code",
      "source": [
        "BEST = metrics_df.index[0]\n",
        "print(f\"Лучший вариант: {BEST}\")\n",
        "\n",
        "# переобучаем выбранные (или все, если блендинг)\n",
        "def refit_predict_full(model_name, steps):\n",
        "    if model_name == 'ETS':\n",
        "        return ets_forecast(series, steps)\n",
        "    if model_name == 'SARIMA':\n",
        "        return sarima_forecast(series, steps)\n",
        "    if model_name == 'Prophet':\n",
        "        return prophet_forecast(series, steps)\n",
        "    if model_name == 'TBATS':\n",
        "        return tbats_forecast(series, steps)\n",
        "    if model_name == 'LGBM':\n",
        "        return lgbm_forecast(series, steps)\n",
        "    if model_name == 'Blend':\n",
        "        # строим все топ-модели на full-train и блендим\n",
        "        full_preds = [refit_predict_full(m, steps) for m in top_models]\n",
        "        return sum(w*p for w,p in zip(weights, full_preds))\n",
        "    raise ValueError(model_name)\n",
        "\n",
        "final_forecast = refit_predict_full(BEST, HORIZON)"
      ],
      "metadata": {
        "id": "FW6MajdJbCwr",
        "colab": {
          "base_uri": "https://localhost:8080/"
        },
        "outputId": "f17a2072-51a9-42f8-ead6-5526980a9703"
      },
      "execution_count": 205,
      "outputs": [
        {
          "output_type": "stream",
          "name": "stdout",
          "text": [
            "Лучший вариант для отправки: LGBM\n"
          ]
        }
      ]
    },
    {
      "cell_type": "code",
      "source": [
        "final_forecast"
      ],
      "metadata": {
        "colab": {
          "base_uri": "https://localhost:8080/",
          "height": 805
        },
        "id": "vtZl-AilYlMy",
        "outputId": "14390cd6-0b7b-4fbb-8cf4-b21ad7adb723"
      },
      "execution_count": 206,
      "outputs": [
        {
          "output_type": "execute_result",
          "data": {
            "text/plain": [
              "2025-01-06    128.662443\n",
              "2025-01-13    124.635752\n",
              "2025-01-20    129.465221\n",
              "2025-01-27    127.876774\n",
              "2025-02-03    130.986460\n",
              "2025-02-10    128.985932\n",
              "2025-02-17    128.192995\n",
              "2025-02-24    128.326529\n",
              "2025-03-03    128.574101\n",
              "2025-03-10    127.503549\n",
              "2025-03-17    125.709075\n",
              "2025-03-24    123.294652\n",
              "2025-03-31    126.252801\n",
              "2025-04-07    121.123969\n",
              "2025-04-14    126.060627\n",
              "2025-04-21    127.332314\n",
              "2025-04-28    126.657617\n",
              "2025-05-05    130.544019\n",
              "2025-05-12    131.531313\n",
              "2025-05-19    131.351655\n",
              "2025-05-26    128.980899\n",
              "2025-06-02    128.676319\n",
              "2025-06-09    129.581427\n",
              "Freq: 7D, dtype: float64"
            ],
            "text/html": [
              "<div>\n",
              "<style scoped>\n",
              "    .dataframe tbody tr th:only-of-type {\n",
              "        vertical-align: middle;\n",
              "    }\n",
              "\n",
              "    .dataframe tbody tr th {\n",
              "        vertical-align: top;\n",
              "    }\n",
              "\n",
              "    .dataframe thead th {\n",
              "        text-align: right;\n",
              "    }\n",
              "</style>\n",
              "<table border=\"1\" class=\"dataframe\">\n",
              "  <thead>\n",
              "    <tr style=\"text-align: right;\">\n",
              "      <th></th>\n",
              "      <th>0</th>\n",
              "    </tr>\n",
              "  </thead>\n",
              "  <tbody>\n",
              "    <tr>\n",
              "      <th>2025-01-06</th>\n",
              "      <td>128.662443</td>\n",
              "    </tr>\n",
              "    <tr>\n",
              "      <th>2025-01-13</th>\n",
              "      <td>124.635752</td>\n",
              "    </tr>\n",
              "    <tr>\n",
              "      <th>2025-01-20</th>\n",
              "      <td>129.465221</td>\n",
              "    </tr>\n",
              "    <tr>\n",
              "      <th>2025-01-27</th>\n",
              "      <td>127.876774</td>\n",
              "    </tr>\n",
              "    <tr>\n",
              "      <th>2025-02-03</th>\n",
              "      <td>130.986460</td>\n",
              "    </tr>\n",
              "    <tr>\n",
              "      <th>2025-02-10</th>\n",
              "      <td>128.985932</td>\n",
              "    </tr>\n",
              "    <tr>\n",
              "      <th>2025-02-17</th>\n",
              "      <td>128.192995</td>\n",
              "    </tr>\n",
              "    <tr>\n",
              "      <th>2025-02-24</th>\n",
              "      <td>128.326529</td>\n",
              "    </tr>\n",
              "    <tr>\n",
              "      <th>2025-03-03</th>\n",
              "      <td>128.574101</td>\n",
              "    </tr>\n",
              "    <tr>\n",
              "      <th>2025-03-10</th>\n",
              "      <td>127.503549</td>\n",
              "    </tr>\n",
              "    <tr>\n",
              "      <th>2025-03-17</th>\n",
              "      <td>125.709075</td>\n",
              "    </tr>\n",
              "    <tr>\n",
              "      <th>2025-03-24</th>\n",
              "      <td>123.294652</td>\n",
              "    </tr>\n",
              "    <tr>\n",
              "      <th>2025-03-31</th>\n",
              "      <td>126.252801</td>\n",
              "    </tr>\n",
              "    <tr>\n",
              "      <th>2025-04-07</th>\n",
              "      <td>121.123969</td>\n",
              "    </tr>\n",
              "    <tr>\n",
              "      <th>2025-04-14</th>\n",
              "      <td>126.060627</td>\n",
              "    </tr>\n",
              "    <tr>\n",
              "      <th>2025-04-21</th>\n",
              "      <td>127.332314</td>\n",
              "    </tr>\n",
              "    <tr>\n",
              "      <th>2025-04-28</th>\n",
              "      <td>126.657617</td>\n",
              "    </tr>\n",
              "    <tr>\n",
              "      <th>2025-05-05</th>\n",
              "      <td>130.544019</td>\n",
              "    </tr>\n",
              "    <tr>\n",
              "      <th>2025-05-12</th>\n",
              "      <td>131.531313</td>\n",
              "    </tr>\n",
              "    <tr>\n",
              "      <th>2025-05-19</th>\n",
              "      <td>131.351655</td>\n",
              "    </tr>\n",
              "    <tr>\n",
              "      <th>2025-05-26</th>\n",
              "      <td>128.980899</td>\n",
              "    </tr>\n",
              "    <tr>\n",
              "      <th>2025-06-02</th>\n",
              "      <td>128.676319</td>\n",
              "    </tr>\n",
              "    <tr>\n",
              "      <th>2025-06-09</th>\n",
              "      <td>129.581427</td>\n",
              "    </tr>\n",
              "  </tbody>\n",
              "</table>\n",
              "</div><br><label><b>dtype:</b> float64</label>"
            ]
          },
          "metadata": {},
          "execution_count": 206
        }
      ]
    },
    {
      "cell_type": "code",
      "source": [
        "import matplotlib.pyplot as plt\n",
        "\n",
        "plt.figure(figsize=(13,6))\n",
        "\n",
        "# фактический ряд\n",
        "plt.plot(series, label='Фактический ряд', lw=2)\n",
        "\n",
        "# выделяем валидацию\n",
        "plt.axvspan(val.index[0], val.index[-1],\n",
        "            color='lightgray', alpha=0.3, label='Валидация')\n",
        "\n",
        "# модели на val\n",
        "for name, yhat in results.items():\n",
        "    plt.plot(yhat.index, yhat, label=f'{name} (val)')\n",
        "\n",
        "# blended‑на val\n",
        "if 'blend_val' in globals():\n",
        "    plt.plot(blend_val.index, blend_val,\n",
        "             '--', lw=3, label='Blend (val)')\n",
        "\n",
        "# финальный прогноз (после валидации) — BEST или Blend\n",
        "plt.plot(final_forecast.index, final_forecast,\n",
        "         color='black', linewidth=3, linestyle=':',\n",
        "         label=f'Финальный прогноз → {BEST}')\n",
        "\n",
        "plt.title('Факт, валидационные прогнозы и финальный прогноз')\n",
        "plt.legend()\n",
        "plt.tight_layout()\n",
        "plt.show()"
      ],
      "metadata": {
        "colab": {
          "base_uri": "https://localhost:8080/",
          "height": 607
        },
        "id": "-xNwigXZh3T3",
        "outputId": "e2a0d25f-2d0c-4e5a-c8f0-325e2d197390"
      },
      "execution_count": 207,
      "outputs": [
        {
          "output_type": "display_data",
          "data": {
            "text/plain": [
              "<Figure size 1300x600 with 1 Axes>"
            ],
            "image/png": "[encoded data removed]"
          },
          "metadata": {}
        }
      ]
    },
    {
      "cell_type": "code",
      "source": [
        "OUT_PATH = '/content/forecast.csv'\n",
        "pd.Series(final_forecast.values, name='y').to_csv(OUT_PATH, index=False)\n",
        "print(f\"Файл сохранён: {OUT_PATH}\")"
      ],
      "metadata": {
        "id": "L6L54JbpbJZl",
        "colab": {
          "base_uri": "https://localhost:8080/"
        },
        "outputId": "6b7320fb-5e74-476e-ee80-a292b31aa877"
      },
      "execution_count": 208,
      "outputs": [
        {
          "output_type": "stream",
          "name": "stdout",
          "text": [
            "✓ Файл сохранён: /content/forecast.csv\n"
          ]
        }
      ]
    },
    {
      "cell_type": "code",
      "source": [],
      "metadata": {
        "id": "Nfbp-H-jeZ9m"
      },
      "execution_count": null,
      "outputs": []
    }
  ]
}